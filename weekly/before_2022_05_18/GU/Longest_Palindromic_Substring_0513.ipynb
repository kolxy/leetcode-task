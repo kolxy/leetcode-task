{
 "cells": [
  {
   "cell_type": "markdown",
   "metadata": {},
   "source": [
    "not the optimal solution, need to come back later"
   ]
  },
  {
   "cell_type": "code",
   "execution_count": null,
   "metadata": {},
   "outputs": [],
   "source": [
    "class Solution:\n",
    "    def longestPalindrome(self, s: str) -> str:\n",
    "        longest = ''\n",
    "        # left, right = 0, len(s) - 1\n",
    "        \n",
    "        for idx, _ in enumerate(s):\n",
    "            left = idx\n",
    "            right = idx\n",
    "            while left >= 0 and right <= len(s) - 1 and s[left] == s[right]:\n",
    "                left -= 1\n",
    "                right += 1\n",
    "            current = s[left + 1:right]\n",
    "            longest = max(longest, current, key = len)\n",
    "            \n",
    "            left = idx\n",
    "            right = idx + 1\n",
    "            while left >= 0 and right <= len(s) - 1 and s[left] == s[right]:\n",
    "                left -= 1\n",
    "                right += 1\n",
    "            current = s[left + 1:right]\n",
    "            longest = max(longest, current, key = len)\n",
    "        return longest"
   ]
  },
  {
   "cell_type": "markdown",
   "metadata": {},
   "source": []
  }
 ],
 "metadata": {
  "language_info": {
   "name": "python"
  },
  "orig_nbformat": 4
 },
 "nbformat": 4,
 "nbformat_minor": 2
}
