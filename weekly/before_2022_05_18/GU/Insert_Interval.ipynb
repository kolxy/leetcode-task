{
 "cells": [
  {
   "cell_type": "markdown",
   "metadata": {},
   "source": [
    "原code出现过的问题：\n",
    "\n",
    "    - 一边loop一边pop的时候pop的index变了！！！\n",
    "    - 注意insert index在loop里可能会被之后的覆盖\n",
    "    - 边界=的情况没考虑\n",
    "\n",
    "新code"
   ]
  },
  {
   "cell_type": "code",
   "execution_count": null,
   "metadata": {},
   "outputs": [],
   "source": [
    "def insert1(intervals, newInterval):\n",
    "    intervals.append(newInterval)\n",
    "    res = []\n",
    "    for i in sorted(intervals, key=lambda x:x.start):\n",
    "        if res and res[-1].end >= i.start:\n",
    "            res[-1].end = max(res[-1].end, i.end)\n",
    "        else:\n",
    "            res.append(i)\n",
    "    return res\n",
    "    \n",
    "def insert(self, intervals, newInterval):\n",
    "    s, e = newInterval.start, newInterval.end\n",
    "    left = [i for i in intervals if i.end < s]\n",
    "    right = [i for i in intervals if i.start > e]\n",
    "    if left + right != intervals:\n",
    "        s = min(s, intervals[len(left)].start)\n",
    "        e = max(e, intervals[~len(right)].end)\n",
    "    return left + [Interval(s, e)] + right\n",
    "\n"
   ]
  },
  {
   "cell_type": "code",
   "execution_count": null,
   "metadata": {},
   "outputs": [],
   "source": [
    "class Solution:\n",
    "    def insert(self, intervals: List[List[int]], newInterval: List[int]) -> List[List[int]]你:\n",
    "        \n",
    "        [[1,3],[5,6]]\n",
    "        \n",
    "        insert_start = len(intervals)\n",
    "        insert_end = len(intervals)\n",
    "        for idx, interval in enumerate(intervals):\n",
    "            ####attention!! replace\n",
    "            ##### <= \n",
    "            if newInterval[0] <= interval[1] and insert_start > idx:\n",
    "                insert_start = idx\n",
    "            if newInterval[1] < interval[0]:\n",
    "                insert_end = idx\n",
    "                break\n",
    "            \n",
    "        if insert_start != insert_end:\n",
    "            replace_start = min(intervals[insert_start][0], newInterval[0])\n",
    "            replace_end = max(intervals[insert_end - 1][1], newInterval[1])\n",
    "\n",
    "            for i in range(insert_start, insert_end):\n",
    "                #### attention!!\n",
    "                intervals.pop(insert_start)\n",
    "            intervals.insert(insert_start, [replace_start, replace_end])\n",
    "        else:\n",
    "            intervals.insert(insert_start, newInterval)\n",
    "        return intervals"
   ]
  }
 ],
 "metadata": {
  "language_info": {
   "name": "python"
  },
  "orig_nbformat": 4
 },
 "nbformat": 4,
 "nbformat_minor": 2
}
