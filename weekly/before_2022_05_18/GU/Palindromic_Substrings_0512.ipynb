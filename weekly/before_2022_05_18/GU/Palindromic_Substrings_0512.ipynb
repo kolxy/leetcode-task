{
 "cells": [
  {
   "cell_type": "code",
   "execution_count": null,
   "metadata": {},
   "outputs": [],
   "source": [
    "class Solution:\n",
    "    def countSubstrings(self, s: str) -> int:\n",
    "        \n",
    "        count = 0\n",
    "        \n",
    "        for idx, _ in enumerate(s):\n",
    "            left = idx\n",
    "            right = idx\n",
    "            while left >= 0 and right <= len(s) - 1 and s[left] == s[right]:\n",
    "                left -= 1\n",
    "                right += 1\n",
    "                count += 1\n",
    "            left = idx\n",
    "            right = idx + 1\n",
    "            \n",
    "            while left >= 0 and right <= len(s) - 1 and s[left] == s[right]:\n",
    "                left -= 1\n",
    "                right += 1\n",
    "                count += 1\n",
    "        return count"
   ]
  }
 ],
 "metadata": {
  "language_info": {
   "name": "python"
  },
  "orig_nbformat": 4
 },
 "nbformat": 4,
 "nbformat_minor": 2
}
