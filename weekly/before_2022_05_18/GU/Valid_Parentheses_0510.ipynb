{
 "cells": [
  {
   "cell_type": "code",
   "execution_count": null,
   "metadata": {},
   "outputs": [],
   "source": [
    "class Solution:\n",
    "    def isValid(self, s):\n",
    "        parentheses_dic = {'[':']', '{': '}', '(': ')'}\n",
    "        filo = []\n",
    "        \n",
    "        for char in s:\n",
    "            if char in parentheses_dic.keys():\n",
    "                filo.append(char)\n",
    "            else:\n",
    "                if len(filo) == 0:\n",
    "                    return False\n",
    "                last = filo.pop()\n",
    "                if parentheses_dic[last] != char:\n",
    "                    return False\n",
    "        return filo == []\n",
    "        \n",
    "#         parentheses_dic = {'[':']', '{': '}', '(': ')'}\n",
    "#         if len(s) == 2:\n",
    "#             if parentheses_dic.get(s[0]) == s[1]:\n",
    "#                 return True\n",
    "#             else:\n",
    "#                 return False\n",
    "#         if len(s) == 1:\n",
    "#             return False\n",
    "        \n",
    "#         left, right = 0, len(s) - 1\n",
    "        \n",
    "#         while right > left:\n",
    "#             # print(f\"the current loop is {s[left]} and {s[right]}, left is {left}, right is {right}\")\n",
    "#             if parentheses_dic.get(s[left]) == s[right]:\n",
    "#                 if left + 1 == right:\n",
    "#                     check_inside = True\n",
    "#                 else:\n",
    "#                     check_inside = self.isValid(s[left + 1:right])\n",
    "#                 if right == len(s) - 1:\n",
    "#                     check_outside = True\n",
    "#                 else:\n",
    "#                     check_outside = self.isValid(s[right + 1:])\n",
    "#                 # print(check_inside, check_outside)\n",
    "#                 if check_inside and check_outside:\n",
    "#                     return True\n",
    "#                 return False\n",
    "#             else:\n",
    "#                 right -= 1\n",
    "                \n",
    "#         return False"
   ]
  }
 ],
 "metadata": {
  "language_info": {
   "name": "python"
  },
  "orig_nbformat": 4
 },
 "nbformat": 4,
 "nbformat_minor": 2
}
