{
 "cells": [
  {
   "cell_type": "markdown",
   "metadata": {},
   "source": [
    "思路：\n",
    "  原code问题：总共loop了两遍，多loop了一遍去处理text\n",
    "  新code：总共只用loop一遍，同时check char和判断是否palindrome\n",
    "\n",
    "其他小问题：\n",
    "  1. 学习用isalnum()\n",
    "  2. right一开始又写成+=1了，应该-=1\n",
    "  3. 一开始忘了lower()\n",
    "\n"
   ]
  },
  {
   "cell_type": "code",
   "execution_count": null,
   "metadata": {},
   "outputs": [],
   "source": [
    "class Solution:\n",
    "    def isPalindrome(self, s: str) -> bool:\n",
    "        left, right = 0, len(s) - 1\n",
    "        \n",
    "        while left < right:\n",
    "            while (left < right) and (not s[left].isalnum()):\n",
    "                left += 1\n",
    "            \n",
    "            while (left < right) and (not s[right].isalnum()):\n",
    "                right -= 1\n",
    "            if s[left].lower() != s[right].lower():\n",
    "                return False\n",
    "            left += 1\n",
    "            right -= 1\n",
    "        return True\n",
    "            \n",
    "#         s = s.lower()\n",
    "#         new_s = \"\"\n",
    "#         for char in s:\n",
    "#             if char.isalpha() or char.isdigit():\n",
    "#                 new_s += char\n",
    "        \n",
    "#         left, right = 0, len(new_s) - 1\n",
    "#         while left < right:\n",
    "#             if new_s[left] == new_s[right]:\n",
    "#                 left += 1\n",
    "#                 right -= 1\n",
    "#             else:\n",
    "#                 return False\n",
    "        \n",
    "#         return True\n",
    "        \n",
    "        "
   ]
  }
 ],
 "metadata": {
  "language_info": {
   "name": "python"
  },
  "orig_nbformat": 4
 },
 "nbformat": 4,
 "nbformat_minor": 2
}
