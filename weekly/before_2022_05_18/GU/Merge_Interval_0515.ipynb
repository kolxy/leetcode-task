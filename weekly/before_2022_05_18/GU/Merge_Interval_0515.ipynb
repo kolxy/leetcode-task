{
 "cells": [
  {
   "cell_type": "code",
   "execution_count": 14,
   "metadata": {},
   "outputs": [],
   "source": [
    "    def merge(self, intervals: List[List[int]]) -> List[List[int]]:\n",
    "        \n",
    "        new_lst = []\n",
    "        intervals = sorted(intervals)\n",
    "        end = -1\n",
    "\n",
    "        for idx, interval in enumerate(intervals):\n",
    "            if end == -1:\n",
    "                start = interval[0]\n",
    "                end = interval[1]\n",
    "            if idx > 0 and interval[0] <= end:\n",
    "                end = max(end, interval[1])\n",
    "            if idx == len(intervals) - 1 or end < intervals[idx + 1][0]:\n",
    "                print(end)\n",
    "                new_lst.append([start, end])\n",
    "                end = -1\n",
    "                \n",
    "        \n",
    "        return new_lst\n",
    "                \n",
    "                "
   ]
  },
  {
   "cell_type": "code",
   "execution_count": 15,
   "metadata": {},
   "outputs": [
    {
     "name": "stdout",
     "output_type": "stream",
     "text": [
      "[[0, 0], [0, 2], [0, 2], [0, 2], [1, 1], [1, 1], [2, 3], [3, 3], [3, 5], [4, 5], [5, 7]]\n",
      "idx is 10, current end is 7\n"
     ]
    },
    {
     "data": {
      "text/plain": [
       "[[0, 7]]"
      ]
     },
     "execution_count": 15,
     "metadata": {},
     "output_type": "execute_result"
    }
   ],
   "source": [
    "intervals = [[3,5],[1,1],[0,2],[4,5],[0,2],[0,0],[5,7],[1,1],[3,3],[0,2],[2,3]]\n",
    "merge(intervals)\n"
   ]
  }
 ],
 "metadata": {
  "interpreter": {
   "hash": "6364a72fa5a61dbd30ae64977659569eca42c6ce0c3637d50b28c1bfd28ad38e"
  },
  "kernelspec": {
   "display_name": "Python 3.9.7 ('base')",
   "language": "python",
   "name": "python3"
  },
  "language_info": {
   "codemirror_mode": {
    "name": "ipython",
    "version": 3
   },
   "file_extension": ".py",
   "mimetype": "text/x-python",
   "name": "python",
   "nbconvert_exporter": "python",
   "pygments_lexer": "ipython3",
   "version": "3.9.7"
  },
  "orig_nbformat": 4
 },
 "nbformat": 4,
 "nbformat_minor": 2
}
